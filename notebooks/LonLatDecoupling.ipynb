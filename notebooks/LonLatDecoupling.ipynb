{
 "cells": [
  {
   "cell_type": "code",
   "execution_count": 32,
   "metadata": {},
   "outputs": [],
   "source": [
    "import sys\n",
    "import os\n",
    "import pathlib\n",
    "sys.path.insert(0, '..')\n",
    "\n",
    "import numpy as np\n",
    "import dataclasses\n",
    "import matplotlib.pyplot as plt\n",
    "from IPython.display import Image\n",
    "\n",
    "import control\n",
    "import f16\n",
    "import test_f16\n",
    "import casadi as ca\n",
    "\n",
    "np.set_printoptions(suppress=True)\n",
    "np.set_printoptions(precision=3)\n",
    "np.set_printoptions(linewidth=200)"
   ]
  },
  {
   "cell_type": "code",
   "execution_count": 33,
   "metadata": {},
   "outputs": [],
   "source": [
    "@dataclasses.dataclass\n",
    "class StateReduced(f16.CasadiDataClass):\n",
    "    VT: float = 0  # true velocity, (ft/s)\n",
    "    alpha: float = 0  # angle of attack, (rad)\n",
    "    theta: float = 0  # B321 pitch angle, (rad)\n",
    "    Q: float = 0  # body pitch rate, (rad/s)\n",
    "    power: float = 0  # power, (0-1)\n",
    "    beta: float = 0  # sideslip angle, (rad)\n",
    "    phi: float = 0  # B321 roll angle, (rad)\n",
    "    P: float = 0  # body roll rate, (rad/s)\n",
    "    R: float = 0  # body yaw rate, (rad/s)\n",
    "\n",
    "@dataclasses.dataclass\n",
    "class StateDotReduced(f16.CasadiDataClass):\n",
    "    VT_dot: float = 0  # true velocity derivative, (ft/s^2)\n",
    "    alpha_dot: float = 0  # angle of attack rate, (rad/s)\n",
    "    theta_dot: float = 0  # B321 pitch rate, (rad/s)\n",
    "    Q_dot: float = 0  # body pitch accel, (rad/s^2)\n",
    "    power_dot: float = 0  # power rate, (NA)\n",
    "    beta_dot: float = 0  # sideslip rate, (rad/s)\n",
    "    phi_dot: float = 0  # B321 roll rate, (rad/s)\n",
    "    P_dot: float = 0  # body roll accel, (rad/s^2)\n",
    "    R_dot: float = 0  # body yaw accel, (rad/s^2)"
   ]
  },
  {
   "cell_type": "code",
   "execution_count": 34,
   "metadata": {},
   "outputs": [
    {
     "data": {
      "text/plain": [
       "StateDot(VT_dot=DM(-0.000991246), alpha_dot=DM(-8.68343e-07), beta_dot=DM(0), phi_dot=0.0, theta_dot=0.0, psi_dot=0.0, P_dot=DM(0), Q_dot=DM(2.29542e-06), R_dot=DM(0), V_N=502.0, V_E=0.0, alt_dot=0.0, power_dot=DM(0))"
      ]
     },
     "execution_count": 34,
     "metadata": {},
     "output_type": "execute_result"
    }
   ],
   "source": [
    "# trim\n",
    "p0 = f16.Parameters(xcg=0.38)\n",
    "x0 = f16.State(VT=502, alpha=0.03544, theta=0.03544)\n",
    "u0 = f16.Control(thtl=0.1325, elv_deg=-0.0559)\n",
    "tables = f16.build_tables()\n",
    "x0.power = tables['tgear'](u0.thtl)\n",
    "dx = f16.dynamics(x0, u0, p0, tables)\n",
    "dx"
   ]
  },
  {
   "cell_type": "code",
   "execution_count": 35,
   "metadata": {},
   "outputs": [
    {
     "data": {
      "text/plain": [
       "array([[ -0.019,   9.378, -32.17 ,  -0.53 ,   0.402,   0.   ,   0.   ,   0.   ,   0.   ],\n",
       "       [ -0.   ,  -1.019,   0.   ,   0.905,  -0.   ,   0.   ,  -0.   ,  -0.   ,  -0.   ],\n",
       "       [  0.   ,   0.   ,   0.   ,   1.   ,   0.   ,   0.   ,  -0.   ,   0.   ,  -0.   ],\n",
       "       [ -0.   ,   0.834,   0.   ,  -1.077,   0.   ,   0.   ,   0.   ,   0.   ,  -0.003],\n",
       "       [  0.   ,   0.   ,   0.   ,   0.   ,  -1.   ,   0.   ,   0.   ,   0.   ,   0.   ],\n",
       "       [  0.   ,   0.   ,   0.   ,   0.   ,  -0.   ,  -0.322,   0.064,   0.035,  -0.992],\n",
       "       [  0.   ,   0.   ,   0.   ,   0.   ,   0.   ,   0.   ,   0.   ,   1.   ,   0.035],\n",
       "       [  0.   ,   0.   ,   0.   ,   0.   ,   0.   ,   0.   ,   0.   ,  -3.681,   0.657],\n",
       "       [  0.   ,   0.   ,   0.   ,   0.003,   0.   ,   0.   ,   0.   ,  -0.024,  -0.476]])"
      ]
     },
     "execution_count": 35,
     "metadata": {},
     "output_type": "execute_result"
    }
   ],
   "source": [
    "xR_sym = ca.MX.sym('xR', 9)\n",
    "u_sym = ca.MX.sym('u_sym', 4)\n",
    "xR = StateReduced.from_casadi(xR_sym)\n",
    "x = f16.State(**xR.to_dict())\n",
    "u = f16.Control.from_casadi(u_sym)\n",
    "p = f16.Parameters()\n",
    "tables = f16.build_tables()\n",
    "dx = f16.dynamics(x, u, p, tables)\n",
    "dxR = StateDotReduced(**{field.name: dx.to_dict()[field.name] for field in StateDotReduced.fields()})\n",
    "xR0 = StateReduced(**{field.name: x0.to_dict()[field.name] for field in StateReduced.fields()})\n",
    "f_A = ca.Function('A', [xR_sym, u_sym], [ca.jacobian(dxR.to_casadi(), xR_sym)])\n",
    "A = np.array(f_A(\n",
    "    np.array(xR0.to_tuple()),\n",
    "    np.array(u0.to_tuple())))\n",
    "A"
   ]
  },
  {
   "cell_type": "code",
   "execution_count": 36,
   "metadata": {},
   "outputs": [
    {
     "data": {
      "text/plain": [
       "array([[ 0.   ,  0.   ,  0.176,  0.   ],\n",
       "       [ 0.   ,  0.   , -0.002,  0.   ],\n",
       "       [ 0.   ,  0.   ,  0.   ,  0.   ],\n",
       "       [ 0.   ,  0.   , -0.176,  0.   ],\n",
       "       [64.94 ,  0.   ,  0.   ,  0.   ],\n",
       "       [ 0.   ,  0.   , -0.   ,  0.001],\n",
       "       [ 0.   ,  0.   ,  0.   ,  0.   ],\n",
       "       [ 0.   , -0.733,  0.   ,  0.132],\n",
       "       [ 0.   , -0.032,  0.   , -0.062]])"
      ]
     },
     "execution_count": 36,
     "metadata": {},
     "output_type": "execute_result"
    }
   ],
   "source": [
    "f_B = ca.Function('B', [xR_sym, u_sym], [ca.jacobian(dxR.to_casadi(), u_sym)])\n",
    "B = np.array(f_B(\n",
    "    np.array(xR0.to_tuple()),\n",
    "    np.array(u0.to_tuple())))\n",
    "B"
   ]
  },
  {
   "cell_type": "code",
   "execution_count": 40,
   "metadata": {},
   "outputs": [
    {
     "data": {
      "text/plain": [
       "A = [[ -0.019   9.378 -32.17   -0.53    0.402]\n",
       " [ -0.     -1.019   0.      0.905  -0.   ]\n",
       " [  0.      0.      0.      1.      0.   ]\n",
       " [ -0.      0.834   0.     -1.077   0.   ]\n",
       " [  0.      0.      0.      0.     -1.   ]]\n",
       "\n",
       "B = [[ 0.    0.  ]\n",
       " [ 0.    0.  ]\n",
       " [ 0.    0.  ]\n",
       " [ 0.    0.  ]\n",
       " [64.94  0.  ]]\n",
       "\n",
       "C = [[1. 0. 0. 0. 0.]\n",
       " [0. 1. 0. 0. 0.]\n",
       " [0. 0. 1. 0. 0.]\n",
       " [0. 0. 0. 1. 0.]\n",
       " [0. 0. 0. 0. 1.]]\n",
       "\n",
       "D = [[0. 0.]\n",
       " [0. 0.]\n",
       " [0. 0.]\n",
       " [0. 0.]\n",
       " [0. 0.]]"
      ]
     },
     "execution_count": 40,
     "metadata": {},
     "output_type": "execute_result"
    }
   ],
   "source": [
    "ss_lon = control.ss(A[:5, :5], B[:5, :2], np.eye(5), np.zeros((5, 2)))\n",
    "ss_lon"
   ]
  },
  {
   "cell_type": "code",
   "execution_count": 41,
   "metadata": {},
   "outputs": [
    {
     "data": {
      "text/plain": [
       "A = [[-0.322  0.064  0.035 -0.992]\n",
       " [ 0.     0.     1.     0.035]\n",
       " [ 0.     0.    -3.681  0.657]\n",
       " [ 0.     0.    -0.024 -0.476]]\n",
       "\n",
       "B = [[-0.     0.001]\n",
       " [ 0.     0.   ]\n",
       " [ 0.     0.132]\n",
       " [ 0.    -0.062]]\n",
       "\n",
       "C = [[1. 0. 0. 0.]\n",
       " [0. 1. 0. 0.]\n",
       " [0. 0. 1. 0.]\n",
       " [0. 0. 0. 1.]]\n",
       "\n",
       "D = [[0. 0.]\n",
       " [0. 0.]\n",
       " [0. 0.]\n",
       " [0. 0.]]"
      ]
     },
     "execution_count": 41,
     "metadata": {},
     "output_type": "execute_result"
    }
   ],
   "source": [
    "ss_lat = control.ss(A[5:, 5:], B[5:, 2:], np.eye(4), np.zeros((4, 2)))\n",
    "ss_lat"
   ]
  }
 ],
 "metadata": {
  "kernelspec": {
   "display_name": "Python 3",
   "language": "python",
   "name": "python3"
  },
  "language_info": {
   "codemirror_mode": {
    "name": "ipython",
    "version": 3
   },
   "file_extension": ".py",
   "mimetype": "text/x-python",
   "name": "python",
   "nbconvert_exporter": "python",
   "pygments_lexer": "ipython3",
   "version": "3.7.3"
  }
 },
 "nbformat": 4,
 "nbformat_minor": 4
}
